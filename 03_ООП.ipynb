{
 "cells": [
  {
   "cell_type": "markdown",
   "metadata": {},
   "source": [
    "\n",
    "\n",
    "\n",
    "\n",
    "\n"
   ]
  },
  {
   "cell_type": "markdown",
   "metadata": {},
   "source": [
    "# Классы\n",
    "Класс – это абстракция, используемая для описания общей структуры и поведения\n",
    "множества объектов.\n",
    "\n",
    "Пример класса рассмотрим на примере класса Car\n"
   ]
  },
  {
   "cell_type": "code",
   "execution_count": 23,
   "metadata": {},
   "outputs": [],
   "source": [
    "class Car():\n",
    "    def __init__(self,make,model,year,mileague=0):\n",
    "        \"\"\"Инициализирует атрибуты описания автомобиля\"\"\"\n",
    "        self.make = make\n",
    "        self.model = model\n",
    "        self.year = year\n",
    "        self.mileague = mileague\n",
    "    def get_description(self):\n",
    "        description = str(self.year) + \" \" + self.make + \" \" + self.model + \" | Mileague:\" + str(self.mileague)+\" Km\"\n",
    "        print(description)"
   ]
  },
  {
   "cell_type": "markdown",
   "metadata": {},
   "source": [
    "# Передаваемые параметры\n",
    "В данном случае мы передает всего 4 параметра:производитель, модель, год производства, пробег.\n",
    "Опять же у параметра \"пробег\" значение по умолчанию равно нулю, следовательно мы может передать только три параметра, а пробег будет равен нулю.\n",
    "\n",
    "# Методы класса\n",
    "В данном классе мы видим, что есть два метода класса.\n",
    "\n",
    "# Метод __init__(self,make,model,year):\n",
    "Функция, являющаяся частью класса, называется методом.\n",
    "Метод __init__() — специальный метод, который автоматически выполняется при создании каждого нового экземпляра\n",
    "на базе любого класса.\n",
    "Имя метода начинается и заканчивается двумя символами подчеркивания; эта схема предотвращает конфликты имен стандартных методов Python и методов ваших классов.\n",
    "\n",
    "Данный метод определяется необходимым количеством параметров, но параметр self является обязательным и должен предшествовать остальным методам.\n",
    "Self служит ссылкой на экземпляр класса.\n",
    "\n",
    "# Метод get_description(self)\n",
    "Это метод, заданный программистом, который выводит описание объекта, который мы задали.\n"
   ]
  },
  {
   "cell_type": "markdown",
   "metadata": {},
   "source": [
    "# Объект или экземпляр класса\n",
    "Это базовая еденица языка Python, так как все является именно объектами.\n",
    "Объект, как и переменная, должен иметь свое уникальное имя, по которому будет происходить обращение к методам класса. \n",
    "Обращение к методам класса происходит через точку."
   ]
  },
  {
   "cell_type": "code",
   "execution_count": 24,
   "metadata": {},
   "outputs": [
    {
     "name": "stdout",
     "output_type": "stream",
     "text": [
      "2011 Lada Priora | Mileague:0 Km\n",
      "Priora\n",
      "Lada\n",
      "2011\n"
     ]
    }
   ],
   "source": [
    "lada_priora = Car(\"Lada\", \"Priora\", 2011)\n",
    "lada_priora.get_description()\n",
    "print(lada_priora.model)\n",
    "print(lada_priora.make)\n",
    "print(lada_priora.year)"
   ]
  },
  {
   "cell_type": "markdown",
   "metadata": {},
   "source": [
    "Как мы можем увидеть, мы передали 3 параметра, которые были присовены отдельным свойствам класса.\n",
    "Для получения описания, мы вызвали соответствующую функцию.\n",
    "Для получения конкретных свойств объекта, мы обращаемся напрямую к ним."
   ]
  },
  {
   "cell_type": "markdown",
   "metadata": {},
   "source": [
    "# Наследование\n",
    "Работа над новым классом не обязана начинаться с нуля. Если класс, который вы пишете, представляет собой специализированную версию ранее написанного класса, вы можете воспользоваться наследованием. Один класс, наследующий от другого, автоматически получает все атрибуты и методы первого класса. Исходный класс называется родителем, а новый класс — потомком. Класс-потомок наследует атрибуты и методы родителя, но при этом также может определять собственные атрибуты и методы.\n",
    "\n"
   ]
  },
  {
   "cell_type": "code",
   "execution_count": 25,
   "metadata": {},
   "outputs": [
    {
     "name": "stdout",
     "output_type": "stream",
     "text": [
      "2020 Lada Priora | Mileague:30 Km\n",
      "Эта машина имеет 70-kWh батарею.\n"
     ]
    }
   ],
   "source": [
    "class Electric_Car(Car):\n",
    "    def __init__(self,make,model,year,mileague=0):\n",
    "        \"\"\"Инициализирует атрибуты класса-родителя\"\"\"\n",
    "        super().__init__(make,model,year,mileague)\n",
    "        self.battery_size = 70\n",
    "    def describe_battery(self):\n",
    "        \"\"\"Выводит информацию о мощности аккумулятора.\"\"\"\n",
    "        print(\"Эта машина имеет \" + str(self.battery_size) + \"-kWh батарею.\")\n",
    "\n",
    "my_electic_lada = Electric_Car(\"Lada\",\"Priora\",2020,30)\n",
    "my_electic_lada.get_description()\n",
    "my_electic_lada.describe_battery()\n",
    "\n",
    "\n",
    "        "
   ]
  },
  {
   "cell_type": "markdown",
   "metadata": {},
   "source": [
    "# Еще примеры\n"
   ]
  },
  {
   "cell_type": "code",
   "execution_count": 54,
   "metadata": {},
   "outputs": [],
   "source": [
    "class Rectagle():\n",
    "    def __init__(self,a,b):\n",
    "        if (a>0 and b>0):\n",
    "            self.a = a\n",
    "            self.b = b\n",
    "        else:\n",
    "            print(\"Error\")\n",
    "    def get_perimetr(self):\n",
    "        perimetr = (self.a+self.b)*2\n",
    "        return perimetr\n",
    "    def get_area(self):\n",
    "        area = self.a*self.b\n",
    "        return area\n",
    "\n",
    "class Square(Rectagle):\n",
    "    def __init__(self,a):\n",
    "        \"\"\"Инициализирует атрибуты класса-родителя\"\"\"\n",
    "        super().__init__(a,b=a)\n",
    "        "
   ]
  },
  {
   "cell_type": "code",
   "execution_count": 55,
   "metadata": {},
   "outputs": [],
   "source": [
    "rectagle = Rectagle(4,5)\n",
    "square = Square(4)"
   ]
  },
  {
   "cell_type": "code",
   "execution_count": 59,
   "metadata": {},
   "outputs": [
    {
     "name": "stdout",
     "output_type": "stream",
     "text": [
      "Периметр прямоугольника равен 18\n",
      "Периметр квадрата равен 16\n",
      "Площадь прямоугольника равна 20\n",
      "Площадь квадрата равна 16\n"
     ]
    }
   ],
   "source": [
    "print(\"Периметр прямоугольника равен\",rectagle.get_perimetr())\n",
    "print(\"Периметр квадрата равен\",square.get_perimetr())\n",
    "print(\"Площадь прямоугольника равна\",rectagle.get_area())\n",
    "print(\"Площадь квадрата равна\",square.get_area())"
   ]
  }
 ],
 "metadata": {
  "kernelspec": {
   "display_name": "Python 3",
   "language": "python",
   "name": "python3"
  },
  "language_info": {
   "codemirror_mode": {
    "name": "ipython",
    "version": 3
   },
   "file_extension": ".py",
   "mimetype": "text/x-python",
   "name": "python",
   "nbconvert_exporter": "python",
   "pygments_lexer": "ipython3",
   "version": "3.6.10"
  }
 },
 "nbformat": 4,
 "nbformat_minor": 4
}
